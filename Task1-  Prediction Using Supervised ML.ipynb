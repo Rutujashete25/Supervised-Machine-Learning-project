{
 "cells": [
  {
   "cell_type": "markdown",
   "id": "84a30891",
   "metadata": {},
   "source": [
    "# GRIP: The Sparks Foundation- Data Science and Buisness Analytics Internship"
   ]
  },
  {
   "cell_type": "markdown",
   "id": "5308f5e7",
   "metadata": {},
   "source": [
    "# Task 1: Prediction Using Supervised Machine Learning ."
   ]
  },
  {
   "cell_type": "markdown",
   "id": "279950db",
   "metadata": {},
   "source": [
    "## Author : Rutuja Shete"
   ]
  },
  {
   "cell_type": "markdown",
   "id": "3d93c009",
   "metadata": {},
   "source": [
    "**PROBLEM STATEMENT :**\n",
    "* In this task we are going to predict the percentage of an student based upon the no. of hours he studied. we re going to use simple linear regression in this task as it involves only two variables .\n",
    "* Dataset :http://bit.ly/w-data"
   ]
  },
  {
   "cell_type": "markdown",
   "id": "c4cc2b73",
   "metadata": {},
   "source": [
    "## Step 1:   Import all the recquired libraries"
   ]
  },
  {
   "cell_type": "code",
   "execution_count": 6,
   "id": "8aa0da09",
   "metadata": {},
   "outputs": [],
   "source": [
    "import numpy as np\n",
    "import pandas as pd\n",
    "import matplotlib.pyplot as plt\n",
    "import seaborn as sns\n",
    "%matplotlib inline"
   ]
  },
  {
   "cell_type": "markdown",
   "id": "359b0a3f",
   "metadata": {},
   "source": [
    "## Step 2 : Import Dataset"
   ]
  },
  {
   "cell_type": "code",
   "execution_count": 93,
   "id": "43ae1d46",
   "metadata": {},
   "outputs": [
    {
     "data": {
      "text/html": [
       "<div>\n",
       "<style scoped>\n",
       "    .dataframe tbody tr th:only-of-type {\n",
       "        vertical-align: middle;\n",
       "    }\n",
       "\n",
       "    .dataframe tbody tr th {\n",
       "        vertical-align: top;\n",
       "    }\n",
       "\n",
       "    .dataframe thead th {\n",
       "        text-align: right;\n",
       "    }\n",
       "</style>\n",
       "<table border=\"1\" class=\"dataframe\">\n",
       "  <thead>\n",
       "    <tr style=\"text-align: right;\">\n",
       "      <th></th>\n",
       "      <th>Hours</th>\n",
       "      <th>Scores</th>\n",
       "    </tr>\n",
       "  </thead>\n",
       "  <tbody>\n",
       "    <tr>\n",
       "      <th>0</th>\n",
       "      <td>2.5</td>\n",
       "      <td>21</td>\n",
       "    </tr>\n",
       "    <tr>\n",
       "      <th>1</th>\n",
       "      <td>5.1</td>\n",
       "      <td>47</td>\n",
       "    </tr>\n",
       "    <tr>\n",
       "      <th>2</th>\n",
       "      <td>3.2</td>\n",
       "      <td>27</td>\n",
       "    </tr>\n",
       "    <tr>\n",
       "      <th>3</th>\n",
       "      <td>8.5</td>\n",
       "      <td>75</td>\n",
       "    </tr>\n",
       "    <tr>\n",
       "      <th>4</th>\n",
       "      <td>3.5</td>\n",
       "      <td>30</td>\n",
       "    </tr>\n",
       "  </tbody>\n",
       "</table>\n",
       "</div>"
      ],
      "text/plain": [
       "   Hours  Scores\n",
       "0    2.5      21\n",
       "1    5.1      47\n",
       "2    3.2      27\n",
       "3    8.5      75\n",
       "4    3.5      30"
      ]
     },
     "execution_count": 93,
     "metadata": {},
     "output_type": "execute_result"
    }
   ],
   "source": [
    "data = pd.read_csv(\"http://bit.ly/w-data\")\n",
    "data.head()"
   ]
  },
  {
   "cell_type": "markdown",
   "id": "889f85a1",
   "metadata": {},
   "source": [
    "* As per the simple linear regression is concern, is depend upon the two variables dependant and independant. so, here we can say that according to our problem statement \"Hours\" is the Independant variable / predictor(X) & \"Score\" is the Dependent variable / Target(Y)."
   ]
  },
  {
   "cell_type": "markdown",
   "id": "b35bea15",
   "metadata": {},
   "source": [
    "## Step 3: Exploratory Data Analysis"
   ]
  },
  {
   "cell_type": "markdown",
   "id": "ee5c64e8",
   "metadata": {},
   "source": [
    "* Get usefull insights from a dataset."
   ]
  },
  {
   "cell_type": "code",
   "execution_count": 8,
   "id": "dd0e3d98",
   "metadata": {},
   "outputs": [
    {
     "name": "stdout",
     "output_type": "stream",
     "text": [
      "Rows: 25\n",
      "Columns: 2\n"
     ]
    }
   ],
   "source": [
    "# observe the dataset\n",
    "print(\"Rows:\",data.shape[0])\n",
    "print(\"Columns:\",data.shape[1])"
   ]
  },
  {
   "cell_type": "code",
   "execution_count": 9,
   "id": "2651af79",
   "metadata": {},
   "outputs": [
    {
     "name": "stdout",
     "output_type": "stream",
     "text": [
      "<class 'pandas.core.frame.DataFrame'>\n",
      "RangeIndex: 25 entries, 0 to 24\n",
      "Data columns (total 2 columns):\n",
      " #   Column  Non-Null Count  Dtype  \n",
      "---  ------  --------------  -----  \n",
      " 0   Hours   25 non-null     float64\n",
      " 1   Scores  25 non-null     int64  \n",
      "dtypes: float64(1), int64(1)\n",
      "memory usage: 528.0 bytes\n"
     ]
    }
   ],
   "source": [
    "data.info()"
   ]
  },
  {
   "cell_type": "markdown",
   "id": "7691b872",
   "metadata": {},
   "source": [
    "* The info function gives the quick idea about dataset. here, the information contains no. of columns, column labels, column data types, null values,etc.  "
   ]
  },
  {
   "cell_type": "code",
   "execution_count": 10,
   "id": "1c227429",
   "metadata": {},
   "outputs": [
    {
     "data": {
      "text/html": [
       "<div>\n",
       "<style scoped>\n",
       "    .dataframe tbody tr th:only-of-type {\n",
       "        vertical-align: middle;\n",
       "    }\n",
       "\n",
       "    .dataframe tbody tr th {\n",
       "        vertical-align: top;\n",
       "    }\n",
       "\n",
       "    .dataframe thead th {\n",
       "        text-align: right;\n",
       "    }\n",
       "</style>\n",
       "<table border=\"1\" class=\"dataframe\">\n",
       "  <thead>\n",
       "    <tr style=\"text-align: right;\">\n",
       "      <th></th>\n",
       "      <th>Hours</th>\n",
       "      <th>Scores</th>\n",
       "    </tr>\n",
       "  </thead>\n",
       "  <tbody>\n",
       "    <tr>\n",
       "      <th>count</th>\n",
       "      <td>25.000000</td>\n",
       "      <td>25.000000</td>\n",
       "    </tr>\n",
       "    <tr>\n",
       "      <th>mean</th>\n",
       "      <td>5.012000</td>\n",
       "      <td>51.480000</td>\n",
       "    </tr>\n",
       "    <tr>\n",
       "      <th>std</th>\n",
       "      <td>2.525094</td>\n",
       "      <td>25.286887</td>\n",
       "    </tr>\n",
       "    <tr>\n",
       "      <th>min</th>\n",
       "      <td>1.100000</td>\n",
       "      <td>17.000000</td>\n",
       "    </tr>\n",
       "    <tr>\n",
       "      <th>25%</th>\n",
       "      <td>2.700000</td>\n",
       "      <td>30.000000</td>\n",
       "    </tr>\n",
       "    <tr>\n",
       "      <th>50%</th>\n",
       "      <td>4.800000</td>\n",
       "      <td>47.000000</td>\n",
       "    </tr>\n",
       "    <tr>\n",
       "      <th>75%</th>\n",
       "      <td>7.400000</td>\n",
       "      <td>75.000000</td>\n",
       "    </tr>\n",
       "    <tr>\n",
       "      <th>max</th>\n",
       "      <td>9.200000</td>\n",
       "      <td>95.000000</td>\n",
       "    </tr>\n",
       "  </tbody>\n",
       "</table>\n",
       "</div>"
      ],
      "text/plain": [
       "           Hours     Scores\n",
       "count  25.000000  25.000000\n",
       "mean    5.012000  51.480000\n",
       "std     2.525094  25.286887\n",
       "min     1.100000  17.000000\n",
       "25%     2.700000  30.000000\n",
       "50%     4.800000  47.000000\n",
       "75%     7.400000  75.000000\n",
       "max     9.200000  95.000000"
      ]
     },
     "execution_count": 10,
     "metadata": {},
     "output_type": "execute_result"
    }
   ],
   "source": [
    "#Summary of statistics\n",
    "data.describe()"
   ]
  },
  {
   "cell_type": "code",
   "execution_count": 16,
   "id": "2c78e395",
   "metadata": {},
   "outputs": [
    {
     "data": {
      "text/plain": [
       "Hours     0\n",
       "Scores    0\n",
       "dtype: int64"
      ]
     },
     "execution_count": 16,
     "metadata": {},
     "output_type": "execute_result"
    }
   ],
   "source": [
    "data.isnull().sum()"
   ]
  },
  {
   "cell_type": "markdown",
   "id": "6962af7f",
   "metadata": {},
   "source": [
    "* There is no null value in dataset."
   ]
  },
  {
   "cell_type": "markdown",
   "id": "6fe672d3",
   "metadata": {},
   "source": [
    "## Step 4 :  Visualizing The Data"
   ]
  },
  {
   "cell_type": "code",
   "execution_count": 11,
   "id": "38fbf2f1",
   "metadata": {},
   "outputs": [
    {
     "name": "stderr",
     "output_type": "stream",
     "text": [
      "C:\\ProgramData\\Anaconda3\\lib\\site-packages\\seaborn\\distributions.py:2557: FutureWarning: `distplot` is a deprecated function and will be removed in a future version. Please adapt your code to use either `displot` (a figure-level function with similar flexibility) or `histplot` (an axes-level function for histograms).\n",
      "  warnings.warn(msg, FutureWarning)\n"
     ]
    },
    {
     "data": {
      "image/png": "[encoded data removed]",
      "text/plain": [
       "<Figure size 432x288 with 1 Axes>"
      ]
     },
     "metadata": {
      "needs_background": "light"
     },
     "output_type": "display_data"
    }
   ],
   "source": [
    "# Univariate Analysis\n",
    "# Checking the overall distributions of both the columns.\n",
    "sns_plt = sns.distplot(data[\"Hours\"])"
   ]
  },
  {
   "cell_type": "code",
   "execution_count": 19,
   "id": "c7c59ce2",
   "metadata": {},
   "outputs": [
    {
     "name": "stderr",
     "output_type": "stream",
     "text": [
      "C:\\ProgramData\\Anaconda3\\lib\\site-packages\\seaborn\\distributions.py:2557: FutureWarning: `distplot` is a deprecated function and will be removed in a future version. Please adapt your code to use either `displot` (a figure-level function with similar flexibility) or `histplot` (an axes-level function for histograms).\n",
      "  warnings.warn(msg, FutureWarning)\n"
     ]
    },
    {
     "data": {
      "image/png": "[encoded data removed]",
      "text/plain": [
       "<Figure size 432x288 with 1 Axes>"
      ]
     },
     "metadata": {
      "needs_background": "light"
     },
     "output_type": "display_data"
    }
   ],
   "source": [
    "sns_plt1= sns.distplot(data[\"Scores\"])\n"
   ]
  },
  {
   "cell_type": "code",
   "execution_count": 31,
   "id": "0b7bac28",
   "metadata": {},
   "outputs": [
    {
     "name": "stderr",
     "output_type": "stream",
     "text": [
      "C:\\ProgramData\\Anaconda3\\lib\\site-packages\\seaborn\\_decorators.py:36: FutureWarning: Pass the following variable as a keyword arg: x. From version 0.12, the only valid positional argument will be `data`, and passing other arguments without an explicit keyword will result in an error or misinterpretation.\n",
      "  warnings.warn(\n",
      "C:\\ProgramData\\Anaconda3\\lib\\site-packages\\seaborn\\_decorators.py:36: FutureWarning: Pass the following variable as a keyword arg: x. From version 0.12, the only valid positional argument will be `data`, and passing other arguments without an explicit keyword will result in an error or misinterpretation.\n",
      "  warnings.warn(\n"
     ]
    },
    {
     "data": {
      "image/png": "[encoded data removed]",
      "text/plain": [
       "<Figure size 864x432 with 2 Axes>"
      ]
     },
     "metadata": {
      "needs_background": "light"
     },
     "output_type": "display_data"
    }
   ],
   "source": [
    "# To check the outliers by using multivariate analysis\n",
    "fig=plt.figure(figsize=(12,6))\n",
    "a= fig.add_subplot(1,2,1, title=\"Scores\")\n",
    "b= fig.add_subplot(1,2,2, title=\"Hours\")\n",
    "\n",
    "sns.boxplot(data.Scores, ax=a, color=\"NAVY\")\n",
    "sns.boxplot(data.Hours, ax=b, color=\"TEAL\")\n",
    "plt.show()\n"
   ]
  },
  {
   "cell_type": "markdown",
   "id": "4e513a27",
   "metadata": {},
   "source": [
    "* There are no outliers in the data."
   ]
  },
  {
   "cell_type": "code",
   "execution_count": 26,
   "id": "135a490d",
   "metadata": {},
   "outputs": [
    {
     "data": {
      "image/png": "[encoded data removed]",
      "text/plain": [
       "<Figure size 720x360 with 1 Axes>"
      ]
     },
     "metadata": {
      "needs_background": "light"
     },
     "output_type": "display_data"
    }
   ],
   "source": [
    "# To check the relationship between \"Hours\" and \"Scores.\"\n",
    "plt.figure(figsize=(10,5))\n",
    "sns.scatterplot(data=data,x='Hours',y='Scores',color=\"red\")\n",
    "plt.title('Hours vs Percentage')  \n",
    "plt.xlabel('Hours Studied')  \n",
    "plt.ylabel('Percentage Score') \n",
    "plt.show()"
   ]
  },
  {
   "cell_type": "markdown",
   "id": "65ca31b4",
   "metadata": {},
   "source": [
    "* There is a strong positive relationship between the Hours studied and the percentage score.\n",
    "* As the value of hours increases the percentage also increases ."
   ]
  },
  {
   "cell_type": "code",
   "execution_count": 28,
   "id": "f2f7919e",
   "metadata": {},
   "outputs": [
    {
     "data": {
      "image/png": "[encoded data removed]",
      "text/plain": [
       "<Figure size 720x360 with 2 Axes>"
      ]
     },
     "metadata": {
      "needs_background": "light"
     },
     "output_type": "display_data"
    }
   ],
   "source": [
    "# also check the strength of relationship.\n",
    "plt.figure(figsize=(10,5))\n",
    "sns.heatmap(data.corr(),annot=True)\n",
    "plt.show()"
   ]
  },
  {
   "cell_type": "markdown",
   "id": "b5f4e41a",
   "metadata": {},
   "source": [
    " * Both the feature are highly correlated to each other"
   ]
  },
  {
   "cell_type": "markdown",
   "id": "8badce8b",
   "metadata": {},
   "source": [
    "## Step 5:  Simple Linear Regression"
   ]
  },
  {
   "cell_type": "markdown",
   "id": "dd53e420",
   "metadata": {},
   "source": [
    "### Model Building"
   ]
  },
  {
   "cell_type": "markdown",
   "id": "76946281",
   "metadata": {},
   "source": [
    "* Lets divide the data into  \"attributes\" (inputs) and \"labels\" (outputs).\n",
    "* Assign \"Hours\" as X/ Predictor/ Independent variable\n",
    "* Assign \"Scores\" as Y/Target/Dependent variable."
   ]
  },
  {
   "cell_type": "code",
   "execution_count": 34,
   "id": "81f19e44",
   "metadata": {},
   "outputs": [],
   "source": [
    "x = data.iloc[:,:-1].values\n",
    "y = data.iloc[:,1].values"
   ]
  },
  {
   "cell_type": "markdown",
   "id": "c74ac967",
   "metadata": {},
   "source": [
    "### Train-Test Split"
   ]
  },
  {
   "cell_type": "markdown",
   "id": "792239b3",
   "metadata": {},
   "source": [
    "* Now the next step is to split the data into training and testing stess.\n",
    "* We'll do this by using Scikit-Learn's built-in train_test_split() method.\n",
    "* we split it our data into 80:20 ratio. this is standard split rate"
   ]
  },
  {
   "cell_type": "code",
   "execution_count": 94,
   "id": "213e76a9",
   "metadata": {},
   "outputs": [],
   "source": [
    "from sklearn.model_selection import train_test_split \n",
    "x_train, x_test, y_train, y_test = train_test_split(x, y, test_size=0.2, random_state=45) "
   ]
  },
  {
   "cell_type": "code",
   "execution_count": 95,
   "id": "0ae8a4f8",
   "metadata": {},
   "outputs": [
    {
     "name": "stdout",
     "output_type": "stream",
     "text": [
      "(20, 1)\n",
      "(20,)\n"
     ]
    }
   ],
   "source": [
    "# Check the shape of train and test dataset.\n",
    "print(x_train.shape)\n",
    "print(y_train.shape)"
   ]
  },
  {
   "cell_type": "code",
   "execution_count": 96,
   "id": "6f89255e",
   "metadata": {},
   "outputs": [
    {
     "name": "stdout",
     "output_type": "stream",
     "text": [
      "(5, 1)\n",
      "(5,)\n"
     ]
    }
   ],
   "source": [
    "print(x_test.shape)\n",
    "print(y_test.shape)"
   ]
  },
  {
   "cell_type": "markdown",
   "id": "85d417f9",
   "metadata": {},
   "source": [
    "### Applying the Linear Regression Model"
   ]
  },
  {
   "cell_type": "code",
   "execution_count": 97,
   "id": "a99989ae",
   "metadata": {},
   "outputs": [],
   "source": [
    "from sklearn.linear_model import LinearRegression\n",
    "Regression = LinearRegression()\n",
    "\n"
   ]
  },
  {
   "cell_type": "code",
   "execution_count": 98,
   "id": "bcf87243",
   "metadata": {},
   "outputs": [
    {
     "name": "stdout",
     "output_type": "stream",
     "text": [
      "Training Complete\n"
     ]
    }
   ],
   "source": [
    "# fit the training data\n",
    "Regression.fit(x_train,y_train)\n",
    "print(\"Training Complete\")"
   ]
  },
  {
   "cell_type": "code",
   "execution_count": 99,
   "id": "03aebe25",
   "metadata": {},
   "outputs": [
    {
     "data": {
      "text/plain": [
       "0.5033079222218575"
      ]
     },
     "execution_count": 99,
     "metadata": {},
     "output_type": "execute_result"
    }
   ],
   "source": [
    "Regression.intercept_ # B0 VALUE"
   ]
  },
  {
   "cell_type": "code",
   "execution_count": 100,
   "id": "4a5160b1",
   "metadata": {},
   "outputs": [
    {
     "data": {
      "text/plain": [
       "array([9.9434127])"
      ]
     },
     "execution_count": 100,
     "metadata": {},
     "output_type": "execute_result"
    }
   ],
   "source": [
    "Regression.coef_"
   ]
  },
  {
   "cell_type": "code",
   "execution_count": 101,
   "id": "95691555",
   "metadata": {},
   "outputs": [],
   "source": [
    "# Plotting the regression line\n",
    "line = Regression.coef_*x+Regression.intercept_"
   ]
  },
  {
   "cell_type": "code",
   "execution_count": 102,
   "id": "6a01dc65",
   "metadata": {},
   "outputs": [
    {
     "data": {
      "image/png": "[encoded data removed]",
      "text/plain": [
       "<Figure size 432x288 with 1 Axes>"
      ]
     },
     "metadata": {
      "needs_background": "light"
     },
     "output_type": "display_data"
    }
   ],
   "source": [
    "# Plotting for the test data\n",
    "plt.scatter(x,y,color=\"red\")\n",
    "plt.plot(x, line,color=\"green\");\n",
    "plt.show()\n"
   ]
  },
  {
   "cell_type": "markdown",
   "id": "9ccdfa21",
   "metadata": {},
   "source": [
    "### Checking accuracy score of both Traing & Testing sets."
   ]
  },
  {
   "cell_type": "code",
   "execution_count": 103,
   "id": "691331db",
   "metadata": {},
   "outputs": [
    {
     "name": "stdout",
     "output_type": "stream",
     "text": [
      "Training Score:  95.37693888812633\n",
      "Testing Score:  92.35792627359558\n"
     ]
    }
   ],
   "source": [
    "print(\"Training Score: \",Regression.score(x_train,y_train)*100)\n",
    "print(\"Testing Score: \",Regression.score(x_test,y_test)*100)"
   ]
  },
  {
   "cell_type": "markdown",
   "id": "fe3c05e2",
   "metadata": {},
   "source": [
    "### Making the predictions"
   ]
  },
  {
   "cell_type": "markdown",
   "id": "f45e4716",
   "metadata": {},
   "source": [
    "* As we have fitted a regression line on our train dataset.It's time to make some predictions on the test dataset. for this, we first need to add a constant to the x_test data like we did for x_train and then we can simply go on and predict the y values corresponding to x_test using the predict attribute of the fitted regression line."
   ]
  },
  {
   "cell_type": "code",
   "execution_count": 104,
   "id": "eb2f05df",
   "metadata": {},
   "outputs": [
    {
     "name": "stdout",
     "output_type": "stream",
     "text": [
      "y_test:  [30 30 42 85 24]\n",
      "\n",
      "x_test: \n",
      "[[2.5]\n",
      " [2.7]\n",
      " [3.3]\n",
      " [7.7]\n",
      " [1.9]]\n"
     ]
    }
   ],
   "source": [
    "print(\"y_test: \",y_test)\n",
    "print(\"\\nx_test: \")\n",
    "print(x_test)"
   ]
  },
  {
   "cell_type": "code",
   "execution_count": 105,
   "id": "44965f27",
   "metadata": {},
   "outputs": [
    {
     "name": "stdout",
     "output_type": "stream",
     "text": [
      "y_pred :\n",
      "[25.36183967 27.35052222 33.31656984 77.06758572 19.39579205]\n"
     ]
    }
   ],
   "source": [
    "# Prediction on testing data\n",
    "y_pred = Regression.predict(x_test) # predicted value of x_test\n",
    "print(\"y_pred :\")\n",
    "print(y_pred)"
   ]
  },
  {
   "cell_type": "code",
   "execution_count": 106,
   "id": "b7fbe057",
   "metadata": {},
   "outputs": [
    {
     "data": {
      "text/html": [
       "<div>\n",
       "<style scoped>\n",
       "    .dataframe tbody tr th:only-of-type {\n",
       "        vertical-align: middle;\n",
       "    }\n",
       "\n",
       "    .dataframe tbody tr th {\n",
       "        vertical-align: top;\n",
       "    }\n",
       "\n",
       "    .dataframe thead th {\n",
       "        text-align: right;\n",
       "    }\n",
       "</style>\n",
       "<table border=\"1\" class=\"dataframe\">\n",
       "  <thead>\n",
       "    <tr style=\"text-align: right;\">\n",
       "      <th></th>\n",
       "      <th>Actual</th>\n",
       "      <th>Predicted</th>\n",
       "    </tr>\n",
       "  </thead>\n",
       "  <tbody>\n",
       "    <tr>\n",
       "      <th>0</th>\n",
       "      <td>30</td>\n",
       "      <td>25.361840</td>\n",
       "    </tr>\n",
       "    <tr>\n",
       "      <th>1</th>\n",
       "      <td>30</td>\n",
       "      <td>27.350522</td>\n",
       "    </tr>\n",
       "    <tr>\n",
       "      <th>2</th>\n",
       "      <td>42</td>\n",
       "      <td>33.316570</td>\n",
       "    </tr>\n",
       "    <tr>\n",
       "      <th>3</th>\n",
       "      <td>85</td>\n",
       "      <td>77.067586</td>\n",
       "    </tr>\n",
       "    <tr>\n",
       "      <th>4</th>\n",
       "      <td>24</td>\n",
       "      <td>19.395792</td>\n",
       "    </tr>\n",
       "  </tbody>\n",
       "</table>\n",
       "</div>"
      ],
      "text/plain": [
       "   Actual  Predicted\n",
       "0      30  25.361840\n",
       "1      30  27.350522\n",
       "2      42  33.316570\n",
       "3      85  77.067586\n",
       "4      24  19.395792"
      ]
     },
     "execution_count": 106,
     "metadata": {},
     "output_type": "execute_result"
    }
   ],
   "source": [
    "# Comparing Actual vs Predicted\n",
    "df = pd.DataFrame({'Actual': y_test, 'Predicted': y_pred})  \n",
    "df "
   ]
  },
  {
   "cell_type": "markdown",
   "id": "22a820a3",
   "metadata": {},
   "source": [
    "### What will be the predicted score if a student study for 9.25 hrs in a day?"
   ]
  },
  {
   "cell_type": "code",
   "execution_count": 107,
   "id": "1056b972",
   "metadata": {},
   "outputs": [
    {
     "name": "stdout",
     "output_type": "stream",
     "text": [
      "No. of study hours: 9.25\n",
      "Predicted Score: 92.47987540719345\n"
     ]
    }
   ],
   "source": [
    "hours = 9.25\n",
    "pred = Regression.predict([[hours]])\n",
    "print(\"No. of study hours: {}\".format(hours))\n",
    "print(\"Predicted Score: {}\".format(pred[0]))"
   ]
  },
  {
   "cell_type": "markdown",
   "id": "d6ca26ac",
   "metadata": {},
   "source": [
    "## Step 6: Evaluating the Model"
   ]
  },
  {
   "cell_type": "markdown",
   "id": "d88be72f",
   "metadata": {},
   "source": [
    "* The final step is to evaluate the performance of algorithm. This step is particularly important to compare how well different algorithms perform on a particular dataset. For simplicity here, we have chosen the mean square error. There are many such metrics."
   ]
  },
  {
   "cell_type": "code",
   "execution_count": 108,
   "id": "ccc5fd84",
   "metadata": {},
   "outputs": [],
   "source": [
    "from sklearn import metrics "
   ]
  },
  {
   "cell_type": "markdown",
   "id": "772aa64e",
   "metadata": {},
   "source": [
    "#### Mean Absolute Error"
   ]
  },
  {
   "cell_type": "code",
   "execution_count": 109,
   "id": "4b3fec3f",
   "metadata": {},
   "outputs": [
    {
     "name": "stdout",
     "output_type": "stream",
     "text": [
      "Mean Absolute Error: 5.701538099875744\n"
     ]
    }
   ],
   "source": [
    "print('Mean Absolute Error:', metrics.mean_absolute_error(y_test, y_pred)) "
   ]
  },
  {
   "cell_type": "markdown",
   "id": "f50a3795",
   "metadata": {},
   "source": [
    "#### Mean Squared Error"
   ]
  },
  {
   "cell_type": "code",
   "execution_count": 111,
   "id": "d6411639",
   "metadata": {},
   "outputs": [
    {
     "name": "stdout",
     "output_type": "stream",
     "text": [
      "Mean Squared Error: 37.61123005187202\n"
     ]
    }
   ],
   "source": [
    "print('Mean Squared Error:',metrics.mean_squared_error(y_test,y_pred))"
   ]
  },
  {
   "cell_type": "code",
   "execution_count": 113,
   "id": "1a68623a",
   "metadata": {},
   "outputs": [
    {
     "name": "stdout",
     "output_type": "stream",
     "text": [
      "6.132799528100688\n"
     ]
    }
   ],
   "source": [
    "print(np.sqrt(metrics.mean_squared_error(y_test,y_pred)))"
   ]
  },
  {
   "cell_type": "markdown",
   "id": "a65cba8a",
   "metadata": {},
   "source": [
    "## Conclusion :\n"
   ]
  },
  {
   "cell_type": "markdown",
   "id": "fd4c7e0f",
   "metadata": {},
   "source": [
    "* After successfully analyzing and exploring dataset we can successfully predict the score of a student based upon the no of hours he studied in a day. "
   ]
  },
  {
   "cell_type": "markdown",
   "id": "a1600661",
   "metadata": {},
   "source": [
    "# Thank You"
   ]
  },
  {
   "cell_type": "code",
   "execution_count": null,
   "id": "be9ad4a1",
   "metadata": {},
   "outputs": [],
   "source": []
  }
 ],
 "metadata": {
  "kernelspec": {
   "display_name": "Python 3",
   "language": "python",
   "name": "python3"
  },
  "language_info": {
   "codemirror_mode": {
    "name": "ipython",
    "version": 3
   },
   "file_extension": ".py",
   "mimetype": "text/x-python",
   "name": "python",
   "nbconvert_exporter": "python",
   "pygments_lexer": "ipython3",
   "version": "3.8.8"
  }
 },
 "nbformat": 4,
 "nbformat_minor": 5
}
